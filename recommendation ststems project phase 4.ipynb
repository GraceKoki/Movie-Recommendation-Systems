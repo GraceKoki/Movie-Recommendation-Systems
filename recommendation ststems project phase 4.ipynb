{
 "cells": [
  {
   "cell_type": "code",
   "execution_count": 1,
   "id": "8754c0cde22d1c5b",
   "metadata": {
    "ExecuteTime": {
     "end_time": "2024-01-13T17:43:42.982848Z",
     "start_time": "2024-01-13T17:43:42.879849400Z"
    },
    "collapsed": false
   },
   "outputs": [],
   "source": [
    "import pandas as pd\n",
    "\n"
   ]
  },
  {
   "cell_type": "markdown",
   "id": "d7ae81c896e67e57",
   "metadata": {
    "collapsed": false
   },
   "source": [
    "### Loading Datasets"
   ]
  },
  {
   "cell_type": "code",
   "execution_count": 2,
   "id": "0ed36e63",
   "metadata": {},
   "outputs": [
    {
     "ename": "TypeError",
     "evalue": "load_and_join_csv() missing 1 required positional argument: 'file4'",
     "output_type": "error",
     "traceback": [
      "\u001b[1;31m---------------------------------------------------------------------------\u001b[0m",
      "\u001b[1;31mTypeError\u001b[0m                                 Traceback (most recent call last)",
      "\u001b[1;32m<ipython-input-2-cb91e9f30adc>\u001b[0m in \u001b[0;36m<module>\u001b[1;34m\u001b[0m\n\u001b[0;32m     16\u001b[0m \u001b[1;33m\u001b[0m\u001b[0m\n\u001b[0;32m     17\u001b[0m \u001b[1;31m# Replace 'file1.csv', 'file2.csv', 'file3.csv', and 'file4.csv' with your actual file paths\u001b[0m\u001b[1;33m\u001b[0m\u001b[1;33m\u001b[0m\u001b[1;33m\u001b[0m\u001b[0m\n\u001b[1;32m---> 18\u001b[1;33m \u001b[0mresulting_dataset\u001b[0m \u001b[1;33m=\u001b[0m \u001b[0mload_and_join_csv\u001b[0m\u001b[1;33m(\u001b[0m\u001b[1;34m\"df1\"\u001b[0m\u001b[1;33m,\u001b[0m \u001b[1;34m\"df2\"\u001b[0m\u001b[1;33m,\u001b[0m \u001b[1;34m\"df3\"\u001b[0m\u001b[1;33m)\u001b[0m\u001b[1;33m\u001b[0m\u001b[1;33m\u001b[0m\u001b[0m\n\u001b[0m\u001b[0;32m     19\u001b[0m \u001b[1;33m\u001b[0m\u001b[0m\n\u001b[0;32m     20\u001b[0m \u001b[1;31m# Display the resulting dataset\u001b[0m\u001b[1;33m\u001b[0m\u001b[1;33m\u001b[0m\u001b[1;33m\u001b[0m\u001b[0m\n",
      "\u001b[1;31mTypeError\u001b[0m: load_and_join_csv() missing 1 required positional argument: 'file4'"
     ]
    }
   ],
   "source": [
    "import pandas as pd\n",
    "\n",
    "def load_and_join_csv(file1, file2, file3):\n",
    "    # Load CSV files into Pandas DataFrames\n",
    "    df1 = pd.read_csv(\"ml-latest-small/movies.csv\")\n",
    "    df2 = pd.read_csv(\"ml-latest-small/ratings.csv\")\n",
    "    df3 = pd.read_csv(\"ml-latest-small/tags.csv\")\n",
    "    \n",
    "\n",
    "    # Perform inner joins to combine the datasets based on common columns\n",
    "    # Adjust the 'on' parameter based on the columns you want to join on\n",
    "    merged_df = pd.merge(df1, df2, on='common_column1', how='inner')\n",
    "    merged_df = pd.merge(merged_df, df3, on='common_column2', how='inner')\n",
    "   \n",
    "    return merged_df\n",
    "\n",
    "# Replace 'file1.csv', 'file2.csv', 'file3.csv', and 'file4.csv' with your actual file paths\n",
    "resulting_dataset = load_and_join_csv(\"df1\", \"df2\", \"df3\")\n",
    "\n",
    "# Display the resulting dataset\n",
    "print(resulting_dataset)"
   ]
  }
 ],
 "metadata": {
  "kernelspec": {
   "display_name": "Python 3",
   "language": "python",
   "name": "python3"
  },
  "language_info": {
   "codemirror_mode": {
    "name": "ipython",
    "version": 3
   },
   "file_extension": ".py",
   "mimetype": "text/x-python",
   "name": "python",
   "nbconvert_exporter": "python",
   "pygments_lexer": "ipython3",
   "version": "3.8.5"
  }
 },
 "nbformat": 4,
 "nbformat_minor": 5
}
